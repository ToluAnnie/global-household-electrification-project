{
 "cells": [
  {
   "cell_type": "code",
   "execution_count": 1,
   "id": "52b28527",
   "metadata": {},
   "outputs": [],
   "source": [
    "#import libraries\n",
    "import pandas as pd\n",
    "import numpy as np\n",
    "import matplotlib.pyplot as plt\n",
    "import seaborn as sns\n",
    "%matplotlib inline"
   ]
  },
  {
   "cell_type": "code",
   "execution_count": 2,
   "id": "8147ce8f",
   "metadata": {},
   "outputs": [],
   "source": [
    "#load dataset\n",
    "df = pd.read_stata('Electrification_Database.dta')"
   ]
  },
  {
   "cell_type": "code",
   "execution_count": 3,
   "id": "ecdeb424",
   "metadata": {
    "scrolled": true
   },
   "outputs": [
    {
     "data": {
      "text/html": [
       "<div>\n",
       "<style scoped>\n",
       "    .dataframe tbody tr th:only-of-type {\n",
       "        vertical-align: middle;\n",
       "    }\n",
       "\n",
       "    .dataframe tbody tr th {\n",
       "        vertical-align: top;\n",
       "    }\n",
       "\n",
       "    .dataframe thead th {\n",
       "        text-align: right;\n",
       "    }\n",
       "</style>\n",
       "<table border=\"1\" class=\"dataframe\">\n",
       "  <thead>\n",
       "    <tr style=\"text-align: right;\">\n",
       "      <th></th>\n",
       "      <th>countryname</th>\n",
       "      <th>countrycode</th>\n",
       "      <th>year</th>\n",
       "      <th>elecrate_total</th>\n",
       "      <th>elecrate_urban</th>\n",
       "      <th>elecrate_rural</th>\n",
       "    </tr>\n",
       "  </thead>\n",
       "  <tbody>\n",
       "    <tr>\n",
       "      <th>0</th>\n",
       "      <td>Albania</td>\n",
       "      <td>ALB</td>\n",
       "      <td>1970</td>\n",
       "      <td>100.0</td>\n",
       "      <td>NaN</td>\n",
       "      <td>NaN</td>\n",
       "    </tr>\n",
       "    <tr>\n",
       "      <th>1</th>\n",
       "      <td>Algeria</td>\n",
       "      <td>DZA</td>\n",
       "      <td>1966</td>\n",
       "      <td>33.7</td>\n",
       "      <td>74.0</td>\n",
       "      <td>11.8</td>\n",
       "    </tr>\n",
       "    <tr>\n",
       "      <th>2</th>\n",
       "      <td>Algeria</td>\n",
       "      <td>DZA</td>\n",
       "      <td>1969</td>\n",
       "      <td>40.0</td>\n",
       "      <td>NaN</td>\n",
       "      <td>NaN</td>\n",
       "    </tr>\n",
       "    <tr>\n",
       "      <th>3</th>\n",
       "      <td>Algeria</td>\n",
       "      <td>DZA</td>\n",
       "      <td>1977</td>\n",
       "      <td>45.8</td>\n",
       "      <td>NaN</td>\n",
       "      <td>NaN</td>\n",
       "    </tr>\n",
       "    <tr>\n",
       "      <th>4</th>\n",
       "      <td>Algeria</td>\n",
       "      <td>DZA</td>\n",
       "      <td>1981</td>\n",
       "      <td>59.0</td>\n",
       "      <td>NaN</td>\n",
       "      <td>NaN</td>\n",
       "    </tr>\n",
       "  </tbody>\n",
       "</table>\n",
       "</div>"
      ],
      "text/plain": [
       "  countryname countrycode  year  elecrate_total  elecrate_urban  \\\n",
       "0     Albania         ALB  1970           100.0             NaN   \n",
       "1     Algeria         DZA  1966            33.7            74.0   \n",
       "2     Algeria         DZA  1969            40.0             NaN   \n",
       "3     Algeria         DZA  1977            45.8             NaN   \n",
       "4     Algeria         DZA  1981            59.0             NaN   \n",
       "\n",
       "   elecrate_rural  \n",
       "0             NaN  \n",
       "1            11.8  \n",
       "2             NaN  \n",
       "3             NaN  \n",
       "4             NaN  "
      ]
     },
     "execution_count": 3,
     "metadata": {},
     "output_type": "execute_result"
    }
   ],
   "source": [
    "df.head()"
   ]
  },
  {
   "cell_type": "code",
   "execution_count": 4,
   "id": "dee306e7",
   "metadata": {},
   "outputs": [
    {
     "name": "stdout",
     "output_type": "stream",
     "text": [
      "<class 'pandas.core.frame.DataFrame'>\n",
      "Int64Index: 1035 entries, 0 to 1034\n",
      "Data columns (total 6 columns):\n",
      " #   Column          Non-Null Count  Dtype  \n",
      "---  ------          --------------  -----  \n",
      " 0   countryname     1035 non-null   object \n",
      " 1   countrycode     1035 non-null   object \n",
      " 2   year            1035 non-null   int16  \n",
      " 3   elecrate_total  961 non-null    float64\n",
      " 4   elecrate_urban  596 non-null    float64\n",
      " 5   elecrate_rural  647 non-null    float64\n",
      "dtypes: float64(3), int16(1), object(2)\n",
      "memory usage: 50.5+ KB\n"
     ]
    }
   ],
   "source": [
    "df.info()"
   ]
  },
  {
   "cell_type": "code",
   "execution_count": 5,
   "id": "60394b9b",
   "metadata": {},
   "outputs": [
    {
     "data": {
      "text/plain": [
       "elecrate_total     74\n",
       "elecrate_urban    439\n",
       "elecrate_rural    388\n",
       "dtype: int64"
      ]
     },
     "execution_count": 5,
     "metadata": {},
     "output_type": "execute_result"
    }
   ],
   "source": [
    "#check for missing data\n",
    "df[['elecrate_total','elecrate_urban','elecrate_rural']].isnull().sum()"
   ]
  },
  {
   "cell_type": "code",
   "execution_count": 6,
   "id": "05f2552e",
   "metadata": {},
   "outputs": [
    {
     "data": {
      "text/plain": [
       "0"
      ]
     },
     "execution_count": 6,
     "metadata": {},
     "output_type": "execute_result"
    }
   ],
   "source": [
    "#check for duplicates\n",
    "duplicates = df.duplicated()\n",
    "duplicates.sum()\n",
    "#no duplicates found"
   ]
  },
  {
   "cell_type": "code",
   "execution_count": 7,
   "id": "5cc48265",
   "metadata": {},
   "outputs": [
    {
     "data": {
      "text/plain": [
       "74"
      ]
     },
     "execution_count": 7,
     "metadata": {},
     "output_type": "execute_result"
    }
   ],
   "source": [
    "#number of missing data in target column\n",
    "df['elecrate_total'].isnull().sum()"
   ]
  },
  {
   "cell_type": "code",
   "execution_count": 8,
   "id": "e1bc922f",
   "metadata": {},
   "outputs": [
    {
     "data": {
      "text/plain": [
       "0"
      ]
     },
     "execution_count": 8,
     "metadata": {},
     "output_type": "execute_result"
    }
   ],
   "source": [
    "#fill in missing data in target column\n",
    "df['elecrate_total'].interpolate(method='linear',inplace=True, limit_direction='forward')\n",
    "df['elecrate_total'].isnull().sum()\n",
    "#missing data handled"
   ]
  },
  {
   "cell_type": "code",
   "execution_count": 9,
   "id": "74f5ff19",
   "metadata": {
    "scrolled": false
   },
   "outputs": [
    {
     "data": {
      "text/plain": [
       "<AxesSubplot:xlabel='elecrate_total', ylabel='Count'>"
      ]
     },
     "execution_count": 9,
     "metadata": {},
     "output_type": "execute_result"
    },
    {
     "data": {
      "image/png": "[encoded data removed]",
      "text/plain": [
       "<Figure size 1008x504 with 1 Axes>"
      ]
     },
     "metadata": {
      "needs_background": "light"
     },
     "output_type": "display_data"
    }
   ],
   "source": [
    "# Distribution of the target variable after handling missing data\n",
    "fig, ax = plt.subplots(figsize=(14,7))\n",
    "sns.histplot(df['elecrate_total'], kde=True, kde_kws=dict(cut=3),\n",
    "             alpha=.4, edgecolor=(1, 1, 1, .4), ax=ax)\n",
    "#the distribution of the target variable is skewed so we will have to scale later"
   ]
  },
  {
   "cell_type": "code",
   "execution_count": 10,
   "id": "c65ce487",
   "metadata": {},
   "outputs": [
    {
     "data": {
      "text/plain": [
       "1"
      ]
     },
     "execution_count": 10,
     "metadata": {},
     "output_type": "execute_result"
    }
   ],
   "source": [
    "#handling missing data in predictor(urban electrical rate) column\n",
    "df['elecrate_urban'].interpolate(method='linear',inplace=True, limit_direction='forward')\n",
    "df['elecrate_urban'].isnull().sum()"
   ]
  },
  {
   "cell_type": "code",
   "execution_count": 11,
   "id": "c5bee18c",
   "metadata": {},
   "outputs": [
    {
     "data": {
      "text/plain": [
       "0        True\n",
       "1       False\n",
       "2       False\n",
       "3       False\n",
       "4       False\n",
       "        ...  \n",
       "1030    False\n",
       "1031    False\n",
       "1032    False\n",
       "1033    False\n",
       "1034    False\n",
       "Name: elecrate_urban, Length: 1035, dtype: bool"
      ]
     },
     "execution_count": 11,
     "metadata": {},
     "output_type": "execute_result"
    }
   ],
   "source": [
    "#there is still one missing data to be handled\n",
    "df['elecrate_urban'].isnull()"
   ]
  },
  {
   "cell_type": "code",
   "execution_count": 12,
   "id": "bef91d0e",
   "metadata": {},
   "outputs": [
    {
     "data": {
      "text/plain": [
       "0"
      ]
     },
     "execution_count": 12,
     "metadata": {},
     "output_type": "execute_result"
    }
   ],
   "source": [
    "#handle missing data using the mean of the variable\n",
    "df['elecrate_urban'].fillna(df['elecrate_urban'].mean(), inplace=True)\n",
    "df['elecrate_urban'].isnull().sum()"
   ]
  },
  {
   "cell_type": "code",
   "execution_count": 13,
   "id": "2e8c1568",
   "metadata": {
    "scrolled": false
   },
   "outputs": [
    {
     "data": {
      "text/plain": [
       "<AxesSubplot:xlabel='elecrate_urban', ylabel='Count'>"
      ]
     },
     "execution_count": 13,
     "metadata": {},
     "output_type": "execute_result"
    },
    {
     "data": {
      "image/png": "[encoded data removed]",
      "text/plain": [
       "<Figure size 1008x504 with 1 Axes>"
      ]
     },
     "metadata": {
      "needs_background": "light"
     },
     "output_type": "display_data"
    }
   ],
   "source": [
    "# Distribution of urban electrical rate after handling missing data\n",
    "fig, ax = plt.subplots(figsize=(14,7))\n",
    "sns.histplot(df['elecrate_urban'], kde=True, kde_kws=dict(cut=3),\n",
    "             alpha=.4, edgecolor=(1, 1, 1, .4), ax=ax)\n",
    "#distribution is skewed"
   ]
  },
  {
   "cell_type": "code",
   "execution_count": 14,
   "id": "865b339e",
   "metadata": {},
   "outputs": [
    {
     "data": {
      "text/plain": [
       "1"
      ]
     },
     "execution_count": 14,
     "metadata": {},
     "output_type": "execute_result"
    }
   ],
   "source": [
    "#handling missing data in predictor(rural electrical rate) column\n",
    "df['elecrate_rural'].interpolate(method='linear',inplace=True, limit_direction='forward')\n",
    "df['elecrate_rural'].isnull().sum()"
   ]
  },
  {
   "cell_type": "code",
   "execution_count": 15,
   "id": "a8eecec9",
   "metadata": {},
   "outputs": [
    {
     "data": {
      "text/plain": [
       "0        True\n",
       "1       False\n",
       "2       False\n",
       "3       False\n",
       "4       False\n",
       "        ...  \n",
       "1030    False\n",
       "1031    False\n",
       "1032    False\n",
       "1033    False\n",
       "1034    False\n",
       "Name: elecrate_rural, Length: 1035, dtype: bool"
      ]
     },
     "execution_count": 15,
     "metadata": {},
     "output_type": "execute_result"
    }
   ],
   "source": [
    "#there is still one missing data to be handled\n",
    "df['elecrate_rural'].isnull()"
   ]
  },
  {
   "cell_type": "code",
   "execution_count": 16,
   "id": "c112b89d",
   "metadata": {},
   "outputs": [
    {
     "data": {
      "text/plain": [
       "0"
      ]
     },
     "execution_count": 16,
     "metadata": {},
     "output_type": "execute_result"
    }
   ],
   "source": [
    "#handle missing data using mean of the rural electrical rate variable\n",
    "df['elecrate_rural'].fillna(df['elecrate_rural'].mean(), inplace=True)\n",
    "df['elecrate_rural'].isnull().sum()"
   ]
  },
  {
   "cell_type": "code",
   "execution_count": 17,
   "id": "612bf010",
   "metadata": {},
   "outputs": [
    {
     "data": {
      "text/plain": [
       "<AxesSubplot:xlabel='elecrate_rural', ylabel='Count'>"
      ]
     },
     "execution_count": 17,
     "metadata": {},
     "output_type": "execute_result"
    },
    {
     "data": {
      "image/png": "[encoded data removed]",
      "text/plain": [
       "<Figure size 1008x504 with 1 Axes>"
      ]
     },
     "metadata": {
      "needs_background": "light"
     },
     "output_type": "display_data"
    }
   ],
   "source": [
    "# Distribution of rural electrical rate after handling missing data\n",
    "fig, ax = plt.subplots(figsize=(14,7))\n",
    "sns.histplot(df['elecrate_rural'], kde=True, kde_kws=dict(cut=3),\n",
    "             alpha=.4, edgecolor=(1, 1, 1, .4), ax=ax)\n",
    "#distribution is skewed"
   ]
  },
  {
   "cell_type": "code",
   "execution_count": 18,
   "id": "2c68ac33",
   "metadata": {},
   "outputs": [
    {
     "data": {
      "text/html": [
       "<div>\n",
       "<style scoped>\n",
       "    .dataframe tbody tr th:only-of-type {\n",
       "        vertical-align: middle;\n",
       "    }\n",
       "\n",
       "    .dataframe tbody tr th {\n",
       "        vertical-align: top;\n",
       "    }\n",
       "\n",
       "    .dataframe thead th {\n",
       "        text-align: right;\n",
       "    }\n",
       "</style>\n",
       "<table border=\"1\" class=\"dataframe\">\n",
       "  <thead>\n",
       "    <tr style=\"text-align: right;\">\n",
       "      <th></th>\n",
       "      <th>countryname</th>\n",
       "      <th>countrycode</th>\n",
       "      <th>year</th>\n",
       "      <th>elecrate_total</th>\n",
       "      <th>elecrate_urban</th>\n",
       "      <th>elecrate_rural</th>\n",
       "    </tr>\n",
       "  </thead>\n",
       "  <tbody>\n",
       "    <tr>\n",
       "      <th>0</th>\n",
       "      <td>Albania</td>\n",
       "      <td>ALB</td>\n",
       "      <td>1970</td>\n",
       "      <td>100.0</td>\n",
       "      <td>70.550997</td>\n",
       "      <td>32.528779</td>\n",
       "    </tr>\n",
       "    <tr>\n",
       "      <th>1</th>\n",
       "      <td>Algeria</td>\n",
       "      <td>DZA</td>\n",
       "      <td>1966</td>\n",
       "      <td>33.7</td>\n",
       "      <td>74.000000</td>\n",
       "      <td>11.800000</td>\n",
       "    </tr>\n",
       "    <tr>\n",
       "      <th>2</th>\n",
       "      <td>Algeria</td>\n",
       "      <td>DZA</td>\n",
       "      <td>1969</td>\n",
       "      <td>40.0</td>\n",
       "      <td>76.318182</td>\n",
       "      <td>19.627273</td>\n",
       "    </tr>\n",
       "    <tr>\n",
       "      <th>3</th>\n",
       "      <td>Algeria</td>\n",
       "      <td>DZA</td>\n",
       "      <td>1977</td>\n",
       "      <td>45.8</td>\n",
       "      <td>78.636364</td>\n",
       "      <td>27.454545</td>\n",
       "    </tr>\n",
       "    <tr>\n",
       "      <th>4</th>\n",
       "      <td>Algeria</td>\n",
       "      <td>DZA</td>\n",
       "      <td>1981</td>\n",
       "      <td>59.0</td>\n",
       "      <td>80.954545</td>\n",
       "      <td>35.281818</td>\n",
       "    </tr>\n",
       "    <tr>\n",
       "      <th>...</th>\n",
       "      <td>...</td>\n",
       "      <td>...</td>\n",
       "      <td>...</td>\n",
       "      <td>...</td>\n",
       "      <td>...</td>\n",
       "      <td>...</td>\n",
       "    </tr>\n",
       "    <tr>\n",
       "      <th>1030</th>\n",
       "      <td>Zimbabwe</td>\n",
       "      <td>ZWE</td>\n",
       "      <td>2001</td>\n",
       "      <td>37.0</td>\n",
       "      <td>82.000000</td>\n",
       "      <td>20.000000</td>\n",
       "    </tr>\n",
       "    <tr>\n",
       "      <th>1031</th>\n",
       "      <td>Zimbabwe</td>\n",
       "      <td>ZWE</td>\n",
       "      <td>2002</td>\n",
       "      <td>39.0</td>\n",
       "      <td>84.000000</td>\n",
       "      <td>22.000000</td>\n",
       "    </tr>\n",
       "    <tr>\n",
       "      <th>1032</th>\n",
       "      <td>Zimbabwe</td>\n",
       "      <td>ZWE</td>\n",
       "      <td>2003</td>\n",
       "      <td>41.0</td>\n",
       "      <td>84.000000</td>\n",
       "      <td>23.000000</td>\n",
       "    </tr>\n",
       "    <tr>\n",
       "      <th>1033</th>\n",
       "      <td>Zimbabwe</td>\n",
       "      <td>ZWE</td>\n",
       "      <td>2004</td>\n",
       "      <td>41.0</td>\n",
       "      <td>85.000000</td>\n",
       "      <td>25.000000</td>\n",
       "    </tr>\n",
       "    <tr>\n",
       "      <th>1034</th>\n",
       "      <td>Zimbabwe</td>\n",
       "      <td>ZWE</td>\n",
       "      <td>2012</td>\n",
       "      <td>40.6</td>\n",
       "      <td>85.000000</td>\n",
       "      <td>25.000000</td>\n",
       "    </tr>\n",
       "  </tbody>\n",
       "</table>\n",
       "<p>1035 rows × 6 columns</p>\n",
       "</div>"
      ],
      "text/plain": [
       "     countryname countrycode  year  elecrate_total  elecrate_urban  \\\n",
       "0        Albania         ALB  1970           100.0       70.550997   \n",
       "1        Algeria         DZA  1966            33.7       74.000000   \n",
       "2        Algeria         DZA  1969            40.0       76.318182   \n",
       "3        Algeria         DZA  1977            45.8       78.636364   \n",
       "4        Algeria         DZA  1981            59.0       80.954545   \n",
       "...          ...         ...   ...             ...             ...   \n",
       "1030    Zimbabwe         ZWE  2001            37.0       82.000000   \n",
       "1031    Zimbabwe         ZWE  2002            39.0       84.000000   \n",
       "1032    Zimbabwe         ZWE  2003            41.0       84.000000   \n",
       "1033    Zimbabwe         ZWE  2004            41.0       85.000000   \n",
       "1034    Zimbabwe         ZWE  2012            40.6       85.000000   \n",
       "\n",
       "      elecrate_rural  \n",
       "0          32.528779  \n",
       "1          11.800000  \n",
       "2          19.627273  \n",
       "3          27.454545  \n",
       "4          35.281818  \n",
       "...              ...  \n",
       "1030       20.000000  \n",
       "1031       22.000000  \n",
       "1032       23.000000  \n",
       "1033       25.000000  \n",
       "1034       25.000000  \n",
       "\n",
       "[1035 rows x 6 columns]"
      ]
     },
     "execution_count": 18,
     "metadata": {},
     "output_type": "execute_result"
    }
   ],
   "source": [
    "df"
   ]
  },
  {
   "cell_type": "code",
   "execution_count": 19,
   "id": "8102f6e5",
   "metadata": {},
   "outputs": [
    {
     "data": {
      "text/html": [
       "<div>\n",
       "<style scoped>\n",
       "    .dataframe tbody tr th:only-of-type {\n",
       "        vertical-align: middle;\n",
       "    }\n",
       "\n",
       "    .dataframe tbody tr th {\n",
       "        vertical-align: top;\n",
       "    }\n",
       "\n",
       "    .dataframe thead th {\n",
       "        text-align: right;\n",
       "    }\n",
       "</style>\n",
       "<table border=\"1\" class=\"dataframe\">\n",
       "  <thead>\n",
       "    <tr style=\"text-align: right;\">\n",
       "      <th></th>\n",
       "      <th>year</th>\n",
       "      <th>elecrate_total</th>\n",
       "      <th>elecrate_urban</th>\n",
       "      <th>elecrate_rural</th>\n",
       "    </tr>\n",
       "  </thead>\n",
       "  <tbody>\n",
       "    <tr>\n",
       "      <th>count</th>\n",
       "      <td>1035.000000</td>\n",
       "      <td>1035.000000</td>\n",
       "      <td>1035.000000</td>\n",
       "      <td>1035.000000</td>\n",
       "    </tr>\n",
       "    <tr>\n",
       "      <th>mean</th>\n",
       "      <td>1997.500483</td>\n",
       "      <td>52.004968</td>\n",
       "      <td>70.550997</td>\n",
       "      <td>32.528779</td>\n",
       "    </tr>\n",
       "    <tr>\n",
       "      <th>std</th>\n",
       "      <td>13.396814</td>\n",
       "      <td>33.972724</td>\n",
       "      <td>24.991341</td>\n",
       "      <td>31.703640</td>\n",
       "    </tr>\n",
       "    <tr>\n",
       "      <th>min</th>\n",
       "      <td>1949.000000</td>\n",
       "      <td>0.200000</td>\n",
       "      <td>0.500000</td>\n",
       "      <td>0.000000</td>\n",
       "    </tr>\n",
       "    <tr>\n",
       "      <th>25%</th>\n",
       "      <td>1992.000000</td>\n",
       "      <td>19.000000</td>\n",
       "      <td>51.350000</td>\n",
       "      <td>5.200000</td>\n",
       "    </tr>\n",
       "    <tr>\n",
       "      <th>50%</th>\n",
       "      <td>2001.000000</td>\n",
       "      <td>48.110000</td>\n",
       "      <td>76.166667</td>\n",
       "      <td>20.000000</td>\n",
       "    </tr>\n",
       "    <tr>\n",
       "      <th>75%</th>\n",
       "      <td>2008.000000</td>\n",
       "      <td>87.400000</td>\n",
       "      <td>92.522727</td>\n",
       "      <td>54.842071</td>\n",
       "    </tr>\n",
       "    <tr>\n",
       "      <th>max</th>\n",
       "      <td>2015.000000</td>\n",
       "      <td>100.000000</td>\n",
       "      <td>100.000000</td>\n",
       "      <td>100.000000</td>\n",
       "    </tr>\n",
       "  </tbody>\n",
       "</table>\n",
       "</div>"
      ],
      "text/plain": [
       "              year  elecrate_total  elecrate_urban  elecrate_rural\n",
       "count  1035.000000     1035.000000     1035.000000     1035.000000\n",
       "mean   1997.500483       52.004968       70.550997       32.528779\n",
       "std      13.396814       33.972724       24.991341       31.703640\n",
       "min    1949.000000        0.200000        0.500000        0.000000\n",
       "25%    1992.000000       19.000000       51.350000        5.200000\n",
       "50%    2001.000000       48.110000       76.166667       20.000000\n",
       "75%    2008.000000       87.400000       92.522727       54.842071\n",
       "max    2015.000000      100.000000      100.000000      100.000000"
      ]
     },
     "execution_count": 19,
     "metadata": {},
     "output_type": "execute_result"
    }
   ],
   "source": [
    "df.describe()\n",
    "#there are 1035 enteries in our dataset\n",
    "#the mean total electricity  consumption is 52%\n",
    "#the dataset spans from 1949 to 2015"
   ]
  },
  {
   "cell_type": "code",
   "execution_count": 20,
   "id": "f4656d4e",
   "metadata": {},
   "outputs": [
    {
     "data": {
      "text/plain": [
       "countryname       False\n",
       "countrycode       False\n",
       "year              False\n",
       "elecrate_total    False\n",
       "elecrate_urban    False\n",
       "elecrate_rural    False\n",
       "dtype: bool"
      ]
     },
     "execution_count": 20,
     "metadata": {},
     "output_type": "execute_result"
    }
   ],
   "source": [
    "df.isnull().any()"
   ]
  },
  {
   "cell_type": "code",
   "execution_count": 21,
   "id": "0960d2a6",
   "metadata": {},
   "outputs": [
    {
     "data": {
      "text/plain": [
       "<AxesSubplot:xlabel='elecrate_total'>"
      ]
     },
     "execution_count": 21,
     "metadata": {},
     "output_type": "execute_result"
    },
    {
     "data": {
      "image/png": "[encoded data removed]",
      "text/plain": [
       "<Figure size 432x288 with 1 Axes>"
      ]
     },
     "metadata": {
      "needs_background": "light"
     },
     "output_type": "display_data"
    }
   ],
   "source": [
    "# boxplot of the target variable to check for outliers. there are no visible outliers\n",
    "sns.boxplot(x = df['elecrate_total'])"
   ]
  },
  {
   "cell_type": "code",
   "execution_count": 22,
   "id": "62302f50",
   "metadata": {},
   "outputs": [
    {
     "data": {
      "text/html": [
       "<div>\n",
       "<style scoped>\n",
       "    .dataframe tbody tr th:only-of-type {\n",
       "        vertical-align: middle;\n",
       "    }\n",
       "\n",
       "    .dataframe tbody tr th {\n",
       "        vertical-align: top;\n",
       "    }\n",
       "\n",
       "    .dataframe thead th {\n",
       "        text-align: right;\n",
       "    }\n",
       "</style>\n",
       "<table border=\"1\" class=\"dataframe\">\n",
       "  <thead>\n",
       "    <tr style=\"text-align: right;\">\n",
       "      <th></th>\n",
       "      <th>countryname</th>\n",
       "      <th>countrycode</th>\n",
       "      <th>year</th>\n",
       "      <th>elecrate_total</th>\n",
       "      <th>elecrate_urban</th>\n",
       "      <th>elecrate_rural</th>\n",
       "    </tr>\n",
       "  </thead>\n",
       "  <tbody>\n",
       "  </tbody>\n",
       "</table>\n",
       "</div>"
      ],
      "text/plain": [
       "Empty DataFrame\n",
       "Columns: [countryname, countrycode, year, elecrate_total, elecrate_urban, elecrate_rural]\n",
       "Index: []"
      ]
     },
     "execution_count": 22,
     "metadata": {},
     "output_type": "execute_result"
    }
   ],
   "source": [
    "# Identify the outliers in the target variable\n",
    "Q1 = df['elecrate_total'].quantile(0.25)\n",
    "Q3 = df['elecrate_total'].quantile(0.75)\n",
    "IQR = Q3 - Q1\n",
    "outliers = df[(df['elecrate_total'] < (Q1 - 1.5 * IQR)) | (df['elecrate_total'] > (Q3 + 1.5 * IQR))]\n",
    "outliers\n",
    "#interquartile range confirms that there are no outliers in the target variable"
   ]
  },
  {
   "cell_type": "code",
   "execution_count": 23,
   "id": "372e85d7",
   "metadata": {},
   "outputs": [
    {
     "data": {
      "image/png": "[encoded data removed]",
      "text/plain": [
       "<Figure size 864x864 with 2 Axes>"
      ]
     },
     "metadata": {
      "needs_background": "light"
     },
     "output_type": "display_data"
    }
   ],
   "source": [
    "#using a heatmap to show correlation\n",
    "fig, ax = plt.subplots(figsize=(12,12))\n",
    "mask = np.triu(np.ones_like(df.corr(), dtype=bool))\n",
    "sns.heatmap(df.corr(), linewidths=0.5, mask=mask, square=True, ax=ax, annot=True);\n",
    "#very low correlation between 'year' and the target variable so it will be droopped when fitting the model\n",
    "# high correlation between urban electricity rate, rural electricity rate and the target variable, total electricity rate\n",
    "#also, high correlation between urban and rural electricity rate so to avoid multicolinearity(treshold=0.7), we drop\n",
    "#the urban electricity rate variable as it has lower correlation than rural electricity rate with the target variable"
   ]
  },
  {
   "cell_type": "code",
   "execution_count": 24,
   "id": "0105c5b2",
   "metadata": {},
   "outputs": [
    {
     "data": {
      "image/png": "[encoded data removed]",
      "text/plain": [
       "<Figure size 432x360 with 1 Axes>"
      ]
     },
     "metadata": {
      "needs_background": "light"
     },
     "output_type": "display_data"
    }
   ],
   "source": [
    "#scatter plots of urban vs rural\n",
    "fig, ax= plt.subplots(figsize=(6, 5))\n",
    "ax.scatter(df['elecrate_rural'], df['elecrate_urban'])\n",
    "ax.set_title(f'urban vs rural')\n",
    "ax.set_xlabel('rural')\n",
    "ax.set_ylabel('urban')\n",
    "fig.tight_layout();\n",
    "#a strong positive correlation with a a few outliers as mahjority of data points will form clusters \n",
    "#around a straight line through them"
   ]
  },
  {
   "cell_type": "code",
   "execution_count": 25,
   "id": "6d556d30",
   "metadata": {},
   "outputs": [
    {
     "data": {
      "image/png": "[encoded data removed]",
      "text/plain": [
       "<Figure size 432x360 with 1 Axes>"
      ]
     },
     "metadata": {
      "needs_background": "light"
     },
     "output_type": "display_data"
    }
   ],
   "source": [
    "#scatter plots of total vs rural\n",
    "fig, ax= plt.subplots(figsize=(6, 5))\n",
    "ax.scatter(df['elecrate_rural'], df['elecrate_total'])\n",
    "ax.set_title(f'total vs rural')\n",
    "ax.set_xlabel('rural')\n",
    "ax.set_ylabel('total')\n",
    "fig.tight_layout();\n",
    "#strong positivelinear relationship between both variables as they will form clusters around a straight line through them\n",
    "#there are few outliers"
   ]
  },
  {
   "cell_type": "code",
   "execution_count": 26,
   "id": "1fda7f9a",
   "metadata": {},
   "outputs": [
    {
     "data": {
      "image/png": "[encoded data removed]",
      "text/plain": [
       "<Figure size 432x360 with 1 Axes>"
      ]
     },
     "metadata": {
      "needs_background": "light"
     },
     "output_type": "display_data"
    }
   ],
   "source": [
    "#scatter plots of total vs urban\n",
    "fig, ax= plt.subplots(figsize=(6, 5))\n",
    "ax.scatter(df['elecrate_urban'], df['elecrate_total'])\n",
    "ax.set_title(f'total vs urban')\n",
    "ax.set_xlabel('urban')\n",
    "ax.set_ylabel('total')\n",
    "fig.tight_layout();\n",
    "#a less strong positive correlation with more outliers"
   ]
  },
  {
   "cell_type": "code",
   "execution_count": 27,
   "id": "10769be3",
   "metadata": {},
   "outputs": [
    {
     "data": {
      "text/plain": [
       "array([[<AxesSubplot:title={'center':'year'}>,\n",
       "        <AxesSubplot:title={'center':'elecrate_total'}>],\n",
       "       [<AxesSubplot:title={'center':'elecrate_urban'}>,\n",
       "        <AxesSubplot:title={'center':'elecrate_rural'}>]], dtype=object)"
      ]
     },
     "execution_count": 27,
     "metadata": {},
     "output_type": "execute_result"
    },
    {
     "data": {
      "image/png": "[encoded data removed]",
      "text/plain": [
       "<Figure size 1152x864 with 4 Axes>"
      ]
     },
     "metadata": {
      "needs_background": "light"
     },
     "output_type": "display_data"
    }
   ],
   "source": [
    "# distribution of features\n",
    "df.hist(figsize=(16,12))\n",
    "#highest total and urban electricity rate recorded is 100% and 0% in rural communities\n",
    "#most of the data entry was done between year 2000 and 2010"
   ]
  },
  {
   "cell_type": "code",
   "execution_count": 28,
   "id": "45567876",
   "metadata": {},
   "outputs": [
    {
     "data": {
      "text/plain": [
       "array([1970, 1966, 1969, 1977, 1981, 1985, 1987, 1989, 1993, 1996, 2005,\n",
       "       2008, 2010, 2013, 2001, 2004, 2009, 1960, 1991, 2003, 1963, 1990,\n",
       "       2000, 2015, 1965, 1971, 2012, 1976, 1982, 1995, 1997, 1998, 1999,\n",
       "       2002, 2011, 2006, 1992, 1994, 2014, 2007, 1988, 1972, 1973, 1980,\n",
       "       1956, 1975, 1986, 1978, 1951, 1964, 1974, 1984, 1959, 1955, 1961,\n",
       "       1983, 1949, 1979, 1952, 1962, 1967, 1968, 1953, 1957, 1950],\n",
       "      dtype=int16)"
      ]
     },
     "execution_count": 28,
     "metadata": {},
     "output_type": "execute_result"
    }
   ],
   "source": [
    "df['year'].unique()"
   ]
  },
  {
   "cell_type": "code",
   "execution_count": 29,
   "id": "1b810821",
   "metadata": {},
   "outputs": [],
   "source": [
    "df1 = df.copy()"
   ]
  },
  {
   "cell_type": "code",
   "execution_count": 30,
   "id": "ca51acce",
   "metadata": {
    "scrolled": true
   },
   "outputs": [
    {
     "data": {
      "text/html": [
       "<div>\n",
       "<style scoped>\n",
       "    .dataframe tbody tr th:only-of-type {\n",
       "        vertical-align: middle;\n",
       "    }\n",
       "\n",
       "    .dataframe tbody tr th {\n",
       "        vertical-align: top;\n",
       "    }\n",
       "\n",
       "    .dataframe thead th {\n",
       "        text-align: right;\n",
       "    }\n",
       "</style>\n",
       "<table border=\"1\" class=\"dataframe\">\n",
       "  <thead>\n",
       "    <tr style=\"text-align: right;\">\n",
       "      <th></th>\n",
       "      <th>countryname</th>\n",
       "      <th>countrycode</th>\n",
       "      <th>year</th>\n",
       "      <th>elecrate_total</th>\n",
       "      <th>elecrate_urban</th>\n",
       "      <th>elecrate_rural</th>\n",
       "    </tr>\n",
       "  </thead>\n",
       "  <tbody>\n",
       "    <tr>\n",
       "      <th>0</th>\n",
       "      <td>Albania</td>\n",
       "      <td>ALB</td>\n",
       "      <td>1970</td>\n",
       "      <td>100.0</td>\n",
       "      <td>70.550997</td>\n",
       "      <td>32.528779</td>\n",
       "    </tr>\n",
       "    <tr>\n",
       "      <th>1</th>\n",
       "      <td>Algeria</td>\n",
       "      <td>DZA</td>\n",
       "      <td>1966</td>\n",
       "      <td>33.7</td>\n",
       "      <td>74.000000</td>\n",
       "      <td>11.800000</td>\n",
       "    </tr>\n",
       "    <tr>\n",
       "      <th>2</th>\n",
       "      <td>Algeria</td>\n",
       "      <td>DZA</td>\n",
       "      <td>1969</td>\n",
       "      <td>40.0</td>\n",
       "      <td>76.318182</td>\n",
       "      <td>19.627273</td>\n",
       "    </tr>\n",
       "    <tr>\n",
       "      <th>3</th>\n",
       "      <td>Algeria</td>\n",
       "      <td>DZA</td>\n",
       "      <td>1977</td>\n",
       "      <td>45.8</td>\n",
       "      <td>78.636364</td>\n",
       "      <td>27.454545</td>\n",
       "    </tr>\n",
       "    <tr>\n",
       "      <th>4</th>\n",
       "      <td>Algeria</td>\n",
       "      <td>DZA</td>\n",
       "      <td>1981</td>\n",
       "      <td>59.0</td>\n",
       "      <td>80.954545</td>\n",
       "      <td>35.281818</td>\n",
       "    </tr>\n",
       "    <tr>\n",
       "      <th>...</th>\n",
       "      <td>...</td>\n",
       "      <td>...</td>\n",
       "      <td>...</td>\n",
       "      <td>...</td>\n",
       "      <td>...</td>\n",
       "      <td>...</td>\n",
       "    </tr>\n",
       "    <tr>\n",
       "      <th>1030</th>\n",
       "      <td>Zimbabwe</td>\n",
       "      <td>ZWE</td>\n",
       "      <td>2001</td>\n",
       "      <td>37.0</td>\n",
       "      <td>82.000000</td>\n",
       "      <td>20.000000</td>\n",
       "    </tr>\n",
       "    <tr>\n",
       "      <th>1031</th>\n",
       "      <td>Zimbabwe</td>\n",
       "      <td>ZWE</td>\n",
       "      <td>2002</td>\n",
       "      <td>39.0</td>\n",
       "      <td>84.000000</td>\n",
       "      <td>22.000000</td>\n",
       "    </tr>\n",
       "    <tr>\n",
       "      <th>1032</th>\n",
       "      <td>Zimbabwe</td>\n",
       "      <td>ZWE</td>\n",
       "      <td>2003</td>\n",
       "      <td>41.0</td>\n",
       "      <td>84.000000</td>\n",
       "      <td>23.000000</td>\n",
       "    </tr>\n",
       "    <tr>\n",
       "      <th>1033</th>\n",
       "      <td>Zimbabwe</td>\n",
       "      <td>ZWE</td>\n",
       "      <td>2004</td>\n",
       "      <td>41.0</td>\n",
       "      <td>85.000000</td>\n",
       "      <td>25.000000</td>\n",
       "    </tr>\n",
       "    <tr>\n",
       "      <th>1034</th>\n",
       "      <td>Zimbabwe</td>\n",
       "      <td>ZWE</td>\n",
       "      <td>2012</td>\n",
       "      <td>40.6</td>\n",
       "      <td>85.000000</td>\n",
       "      <td>25.000000</td>\n",
       "    </tr>\n",
       "  </tbody>\n",
       "</table>\n",
       "<p>1035 rows × 6 columns</p>\n",
       "</div>"
      ],
      "text/plain": [
       "     countryname countrycode  year  elecrate_total  elecrate_urban  \\\n",
       "0        Albania         ALB  1970           100.0       70.550997   \n",
       "1        Algeria         DZA  1966            33.7       74.000000   \n",
       "2        Algeria         DZA  1969            40.0       76.318182   \n",
       "3        Algeria         DZA  1977            45.8       78.636364   \n",
       "4        Algeria         DZA  1981            59.0       80.954545   \n",
       "...          ...         ...   ...             ...             ...   \n",
       "1030    Zimbabwe         ZWE  2001            37.0       82.000000   \n",
       "1031    Zimbabwe         ZWE  2002            39.0       84.000000   \n",
       "1032    Zimbabwe         ZWE  2003            41.0       84.000000   \n",
       "1033    Zimbabwe         ZWE  2004            41.0       85.000000   \n",
       "1034    Zimbabwe         ZWE  2012            40.6       85.000000   \n",
       "\n",
       "      elecrate_rural  \n",
       "0          32.528779  \n",
       "1          11.800000  \n",
       "2          19.627273  \n",
       "3          27.454545  \n",
       "4          35.281818  \n",
       "...              ...  \n",
       "1030       20.000000  \n",
       "1031       22.000000  \n",
       "1032       23.000000  \n",
       "1033       25.000000  \n",
       "1034       25.000000  \n",
       "\n",
       "[1035 rows x 6 columns]"
      ]
     },
     "execution_count": 30,
     "metadata": {},
     "output_type": "execute_result"
    }
   ],
   "source": [
    "df1"
   ]
  },
  {
   "cell_type": "code",
   "execution_count": 31,
   "id": "e423c82c",
   "metadata": {},
   "outputs": [
    {
     "data": {
      "text/plain": [
       "Index(['countryname', 'countrycode'], dtype='object')"
      ]
     },
     "execution_count": 31,
     "metadata": {},
     "output_type": "execute_result"
    }
   ],
   "source": [
    "# Identify categorical columns\n",
    "df1.select_dtypes(include=['category', 'object']).columns"
   ]
  },
  {
   "cell_type": "code",
   "execution_count": 32,
   "id": "efdda995",
   "metadata": {},
   "outputs": [
    {
     "data": {
      "text/plain": [
       "124"
      ]
     },
     "execution_count": 32,
     "metadata": {},
     "output_type": "execute_result"
    }
   ],
   "source": [
    "df1['countryname'].nunique()"
   ]
  },
  {
   "cell_type": "code",
   "execution_count": 33,
   "id": "ff24b298",
   "metadata": {},
   "outputs": [],
   "source": [
    "# Create dictionary to map categories to integer values\n",
    "country_dict = {country: i for i, country in enumerate(df1['countryname'].unique())}\n"
   ]
  },
  {
   "cell_type": "code",
   "execution_count": 34,
   "id": "930b5ae7",
   "metadata": {},
   "outputs": [],
   "source": [
    "# Replace categories with integer values\n",
    "df1['countryname'] = df1['countryname'].replace(country_dict)"
   ]
  },
  {
   "cell_type": "code",
   "execution_count": 35,
   "id": "3556b95a",
   "metadata": {},
   "outputs": [
    {
     "data": {
      "text/html": [
       "<div>\n",
       "<style scoped>\n",
       "    .dataframe tbody tr th:only-of-type {\n",
       "        vertical-align: middle;\n",
       "    }\n",
       "\n",
       "    .dataframe tbody tr th {\n",
       "        vertical-align: top;\n",
       "    }\n",
       "\n",
       "    .dataframe thead th {\n",
       "        text-align: right;\n",
       "    }\n",
       "</style>\n",
       "<table border=\"1\" class=\"dataframe\">\n",
       "  <thead>\n",
       "    <tr style=\"text-align: right;\">\n",
       "      <th></th>\n",
       "      <th>countryname</th>\n",
       "      <th>countrycode</th>\n",
       "      <th>year</th>\n",
       "      <th>elecrate_total</th>\n",
       "      <th>elecrate_urban</th>\n",
       "      <th>elecrate_rural</th>\n",
       "    </tr>\n",
       "  </thead>\n",
       "  <tbody>\n",
       "    <tr>\n",
       "      <th>0</th>\n",
       "      <td>0</td>\n",
       "      <td>ALB</td>\n",
       "      <td>1970</td>\n",
       "      <td>high</td>\n",
       "      <td>70.550997</td>\n",
       "      <td>32.528779</td>\n",
       "    </tr>\n",
       "    <tr>\n",
       "      <th>1</th>\n",
       "      <td>1</td>\n",
       "      <td>DZA</td>\n",
       "      <td>1966</td>\n",
       "      <td>low</td>\n",
       "      <td>74.000000</td>\n",
       "      <td>11.800000</td>\n",
       "    </tr>\n",
       "    <tr>\n",
       "      <th>2</th>\n",
       "      <td>1</td>\n",
       "      <td>DZA</td>\n",
       "      <td>1969</td>\n",
       "      <td>low</td>\n",
       "      <td>76.318182</td>\n",
       "      <td>19.627273</td>\n",
       "    </tr>\n",
       "    <tr>\n",
       "      <th>3</th>\n",
       "      <td>1</td>\n",
       "      <td>DZA</td>\n",
       "      <td>1977</td>\n",
       "      <td>low</td>\n",
       "      <td>78.636364</td>\n",
       "      <td>27.454545</td>\n",
       "    </tr>\n",
       "    <tr>\n",
       "      <th>4</th>\n",
       "      <td>1</td>\n",
       "      <td>DZA</td>\n",
       "      <td>1981</td>\n",
       "      <td>high</td>\n",
       "      <td>80.954545</td>\n",
       "      <td>35.281818</td>\n",
       "    </tr>\n",
       "    <tr>\n",
       "      <th>...</th>\n",
       "      <td>...</td>\n",
       "      <td>...</td>\n",
       "      <td>...</td>\n",
       "      <td>...</td>\n",
       "      <td>...</td>\n",
       "      <td>...</td>\n",
       "    </tr>\n",
       "    <tr>\n",
       "      <th>1030</th>\n",
       "      <td>123</td>\n",
       "      <td>ZWE</td>\n",
       "      <td>2001</td>\n",
       "      <td>low</td>\n",
       "      <td>82.000000</td>\n",
       "      <td>20.000000</td>\n",
       "    </tr>\n",
       "    <tr>\n",
       "      <th>1031</th>\n",
       "      <td>123</td>\n",
       "      <td>ZWE</td>\n",
       "      <td>2002</td>\n",
       "      <td>low</td>\n",
       "      <td>84.000000</td>\n",
       "      <td>22.000000</td>\n",
       "    </tr>\n",
       "    <tr>\n",
       "      <th>1032</th>\n",
       "      <td>123</td>\n",
       "      <td>ZWE</td>\n",
       "      <td>2003</td>\n",
       "      <td>low</td>\n",
       "      <td>84.000000</td>\n",
       "      <td>23.000000</td>\n",
       "    </tr>\n",
       "    <tr>\n",
       "      <th>1033</th>\n",
       "      <td>123</td>\n",
       "      <td>ZWE</td>\n",
       "      <td>2004</td>\n",
       "      <td>low</td>\n",
       "      <td>85.000000</td>\n",
       "      <td>25.000000</td>\n",
       "    </tr>\n",
       "    <tr>\n",
       "      <th>1034</th>\n",
       "      <td>123</td>\n",
       "      <td>ZWE</td>\n",
       "      <td>2012</td>\n",
       "      <td>low</td>\n",
       "      <td>85.000000</td>\n",
       "      <td>25.000000</td>\n",
       "    </tr>\n",
       "  </tbody>\n",
       "</table>\n",
       "<p>1035 rows × 6 columns</p>\n",
       "</div>"
      ],
      "text/plain": [
       "      countryname countrycode  year elecrate_total  elecrate_urban  \\\n",
       "0               0         ALB  1970           high       70.550997   \n",
       "1               1         DZA  1966            low       74.000000   \n",
       "2               1         DZA  1969            low       76.318182   \n",
       "3               1         DZA  1977            low       78.636364   \n",
       "4               1         DZA  1981           high       80.954545   \n",
       "...           ...         ...   ...            ...             ...   \n",
       "1030          123         ZWE  2001            low       82.000000   \n",
       "1031          123         ZWE  2002            low       84.000000   \n",
       "1032          123         ZWE  2003            low       84.000000   \n",
       "1033          123         ZWE  2004            low       85.000000   \n",
       "1034          123         ZWE  2012            low       85.000000   \n",
       "\n",
       "      elecrate_rural  \n",
       "0          32.528779  \n",
       "1          11.800000  \n",
       "2          19.627273  \n",
       "3          27.454545  \n",
       "4          35.281818  \n",
       "...              ...  \n",
       "1030       20.000000  \n",
       "1031       22.000000  \n",
       "1032       23.000000  \n",
       "1033       25.000000  \n",
       "1034       25.000000  \n",
       "\n",
       "[1035 rows x 6 columns]"
      ]
     },
     "execution_count": 35,
     "metadata": {},
     "output_type": "execute_result"
    }
   ],
   "source": [
    "#encoding target variable, total electricity consumption rate as low or high\n",
    "\n",
    "# Define a threshold value to distinguish between low and high values\n",
    "threshold = 50.0\n",
    "\n",
    "# Create a new column to encode the low/high values\n",
    "\n",
    "df1['elecrate_total'] = pd.cut(df['elecrate_total'], \n",
    "                                                    bins=[-float('inf'), threshold, float('inf')], \n",
    "                                                    labels=['low', 'high'])\n",
    "\n",
    "df1\n"
   ]
  },
  {
   "cell_type": "code",
   "execution_count": 36,
   "id": "1d2816e1",
   "metadata": {},
   "outputs": [
    {
     "name": "stdout",
     "output_type": "stream",
     "text": [
      "low     0.518841\n",
      "high    0.481159\n",
      "Name: elecrate_total, dtype: float64\n"
     ]
    }
   ],
   "source": [
    "#check to see if target variable is imbalanced\n",
    "class_counts = df1['elecrate_total'].value_counts()\n",
    "total_samples = class_counts.sum()\n",
    "class_distribution = class_counts / total_samples\n",
    "\n",
    "# Print the class distribution\n",
    "print(class_distribution)\n",
    "#There is no imbalance as the ratio is 51:48"
   ]
  },
  {
   "cell_type": "code",
   "execution_count": 37,
   "id": "d24358d7",
   "metadata": {
    "scrolled": false
   },
   "outputs": [
    {
     "data": {
      "text/plain": [
       "0       4.484572e-16\n",
       "1      -6.541457e-01\n",
       "2      -4.071376e-01\n",
       "3      -1.601295e-01\n",
       "4       8.687866e-02\n",
       "            ...     \n",
       "1030   -3.953753e-01\n",
       "1031   -3.322606e-01\n",
       "1032   -3.007032e-01\n",
       "1033   -2.375885e-01\n",
       "1034   -2.375885e-01\n",
       "Name: scaled_elecrate_rural, Length: 1035, dtype: float64"
      ]
     },
     "execution_count": 37,
     "metadata": {},
     "output_type": "execute_result"
    }
   ],
   "source": [
    "from sklearn.preprocessing import StandardScaler\n",
    "\n",
    "# Apply standard scaling to the column\n",
    "scaler = StandardScaler()\n",
    "df1['scaled_elecrate_rural'] = scaler.fit_transform(df1[['elecrate_rural']])\n",
    "\n",
    "df1['scaled_elecrate_rural']"
   ]
  },
  {
   "cell_type": "code",
   "execution_count": 38,
   "id": "b3dbb635",
   "metadata": {},
   "outputs": [
    {
     "data": {
      "text/html": [
       "<div>\n",
       "<style scoped>\n",
       "    .dataframe tbody tr th:only-of-type {\n",
       "        vertical-align: middle;\n",
       "    }\n",
       "\n",
       "    .dataframe tbody tr th {\n",
       "        vertical-align: top;\n",
       "    }\n",
       "\n",
       "    .dataframe thead th {\n",
       "        text-align: right;\n",
       "    }\n",
       "</style>\n",
       "<table border=\"1\" class=\"dataframe\">\n",
       "  <thead>\n",
       "    <tr style=\"text-align: right;\">\n",
       "      <th></th>\n",
       "      <th>countryname</th>\n",
       "      <th>countrycode</th>\n",
       "      <th>year</th>\n",
       "      <th>elecrate_total</th>\n",
       "      <th>elecrate_urban</th>\n",
       "      <th>elecrate_rural</th>\n",
       "      <th>scaled_elecrate_rural</th>\n",
       "    </tr>\n",
       "  </thead>\n",
       "  <tbody>\n",
       "    <tr>\n",
       "      <th>0</th>\n",
       "      <td>0</td>\n",
       "      <td>ALB</td>\n",
       "      <td>1970</td>\n",
       "      <td>high</td>\n",
       "      <td>70.550997</td>\n",
       "      <td>32.528779</td>\n",
       "      <td>4.484572e-16</td>\n",
       "    </tr>\n",
       "    <tr>\n",
       "      <th>1</th>\n",
       "      <td>1</td>\n",
       "      <td>DZA</td>\n",
       "      <td>1966</td>\n",
       "      <td>low</td>\n",
       "      <td>74.000000</td>\n",
       "      <td>11.800000</td>\n",
       "      <td>-6.541457e-01</td>\n",
       "    </tr>\n",
       "    <tr>\n",
       "      <th>2</th>\n",
       "      <td>1</td>\n",
       "      <td>DZA</td>\n",
       "      <td>1969</td>\n",
       "      <td>low</td>\n",
       "      <td>76.318182</td>\n",
       "      <td>19.627273</td>\n",
       "      <td>-4.071376e-01</td>\n",
       "    </tr>\n",
       "    <tr>\n",
       "      <th>3</th>\n",
       "      <td>1</td>\n",
       "      <td>DZA</td>\n",
       "      <td>1977</td>\n",
       "      <td>low</td>\n",
       "      <td>78.636364</td>\n",
       "      <td>27.454545</td>\n",
       "      <td>-1.601295e-01</td>\n",
       "    </tr>\n",
       "    <tr>\n",
       "      <th>4</th>\n",
       "      <td>1</td>\n",
       "      <td>DZA</td>\n",
       "      <td>1981</td>\n",
       "      <td>high</td>\n",
       "      <td>80.954545</td>\n",
       "      <td>35.281818</td>\n",
       "      <td>8.687866e-02</td>\n",
       "    </tr>\n",
       "    <tr>\n",
       "      <th>...</th>\n",
       "      <td>...</td>\n",
       "      <td>...</td>\n",
       "      <td>...</td>\n",
       "      <td>...</td>\n",
       "      <td>...</td>\n",
       "      <td>...</td>\n",
       "      <td>...</td>\n",
       "    </tr>\n",
       "    <tr>\n",
       "      <th>1030</th>\n",
       "      <td>123</td>\n",
       "      <td>ZWE</td>\n",
       "      <td>2001</td>\n",
       "      <td>low</td>\n",
       "      <td>82.000000</td>\n",
       "      <td>20.000000</td>\n",
       "      <td>-3.953753e-01</td>\n",
       "    </tr>\n",
       "    <tr>\n",
       "      <th>1031</th>\n",
       "      <td>123</td>\n",
       "      <td>ZWE</td>\n",
       "      <td>2002</td>\n",
       "      <td>low</td>\n",
       "      <td>84.000000</td>\n",
       "      <td>22.000000</td>\n",
       "      <td>-3.322606e-01</td>\n",
       "    </tr>\n",
       "    <tr>\n",
       "      <th>1032</th>\n",
       "      <td>123</td>\n",
       "      <td>ZWE</td>\n",
       "      <td>2003</td>\n",
       "      <td>low</td>\n",
       "      <td>84.000000</td>\n",
       "      <td>23.000000</td>\n",
       "      <td>-3.007032e-01</td>\n",
       "    </tr>\n",
       "    <tr>\n",
       "      <th>1033</th>\n",
       "      <td>123</td>\n",
       "      <td>ZWE</td>\n",
       "      <td>2004</td>\n",
       "      <td>low</td>\n",
       "      <td>85.000000</td>\n",
       "      <td>25.000000</td>\n",
       "      <td>-2.375885e-01</td>\n",
       "    </tr>\n",
       "    <tr>\n",
       "      <th>1034</th>\n",
       "      <td>123</td>\n",
       "      <td>ZWE</td>\n",
       "      <td>2012</td>\n",
       "      <td>low</td>\n",
       "      <td>85.000000</td>\n",
       "      <td>25.000000</td>\n",
       "      <td>-2.375885e-01</td>\n",
       "    </tr>\n",
       "  </tbody>\n",
       "</table>\n",
       "<p>1035 rows × 7 columns</p>\n",
       "</div>"
      ],
      "text/plain": [
       "      countryname countrycode  year elecrate_total  elecrate_urban  \\\n",
       "0               0         ALB  1970           high       70.550997   \n",
       "1               1         DZA  1966            low       74.000000   \n",
       "2               1         DZA  1969            low       76.318182   \n",
       "3               1         DZA  1977            low       78.636364   \n",
       "4               1         DZA  1981           high       80.954545   \n",
       "...           ...         ...   ...            ...             ...   \n",
       "1030          123         ZWE  2001            low       82.000000   \n",
       "1031          123         ZWE  2002            low       84.000000   \n",
       "1032          123         ZWE  2003            low       84.000000   \n",
       "1033          123         ZWE  2004            low       85.000000   \n",
       "1034          123         ZWE  2012            low       85.000000   \n",
       "\n",
       "      elecrate_rural  scaled_elecrate_rural  \n",
       "0          32.528779           4.484572e-16  \n",
       "1          11.800000          -6.541457e-01  \n",
       "2          19.627273          -4.071376e-01  \n",
       "3          27.454545          -1.601295e-01  \n",
       "4          35.281818           8.687866e-02  \n",
       "...              ...                    ...  \n",
       "1030       20.000000          -3.953753e-01  \n",
       "1031       22.000000          -3.322606e-01  \n",
       "1032       23.000000          -3.007032e-01  \n",
       "1033       25.000000          -2.375885e-01  \n",
       "1034       25.000000          -2.375885e-01  \n",
       "\n",
       "[1035 rows x 7 columns]"
      ]
     },
     "execution_count": 38,
     "metadata": {},
     "output_type": "execute_result"
    }
   ],
   "source": [
    "df1"
   ]
  },
  {
   "cell_type": "code",
   "execution_count": 39,
   "id": "3cda49a7",
   "metadata": {},
   "outputs": [],
   "source": [
    "#Splitting the data\n",
    "#Feture selection: dropping the year column due to low correlation with other variables and target variable\n",
    "# dropping 'elecrate_ urban variable to avoid multicolinearity'\n",
    "# dropping 'countrycode' because it is the same as 'countryname' variable\n",
    "X = df1.drop(['countrycode','year','elecrate_urban','elecrate_rural','elecrate_total'],axis= 1)\n",
    "y= df1['elecrate_total']"
   ]
  },
  {
   "cell_type": "code",
   "execution_count": 41,
   "id": "eb500394",
   "metadata": {},
   "outputs": [],
   "source": [
    "from sklearn.model_selection import train_test_split\n",
    "X_train, X_test, y_train, y_test = train_test_split(X, y, test_size=0.3, random_state=1)"
   ]
  },
  {
   "cell_type": "code",
   "execution_count": 42,
   "id": "1c8d28df",
   "metadata": {},
   "outputs": [],
   "source": [
    "from sklearn.model_selection import cross_val_score\n",
    "from sklearn.linear_model import LogisticRegression\n",
    "from sklearn.tree import DecisionTreeClassifier\n",
    "from sklearn.ensemble import RandomForestClassifier\n",
    "from sklearn.svm import SVC\n",
    "from sklearn.metrics import accuracy_score, classification_report, confusion_matrix\n",
    "\n",
    "\n",
    "# Define a dictionary of models to test\n",
    "models = {'Logistic Regression': LogisticRegression(),\n",
    "    'Decision Tree': DecisionTreeClassifier(),\n",
    "    'Random Forest': RandomForestClassifier(),\n",
    "    'Support Vector Machine': SVC()\n",
    "}\n",
    "\n",
    "# fuction to Loop over the dictionary of models and evaluate performance using accuracy_score\n",
    "\n",
    "def fit_and_score_model(models, X_train, y_train, X_test, y_test):\n",
    "    model_score = {}\n",
    "    for name,model in models.items():\n",
    "        model.fit(X_train, y_train) #fit model to data\n",
    "        model_score[name] = model.score(X_test, y_test) #model score\n",
    "    return model_score\n"
   ]
  },
  {
   "cell_type": "code",
   "execution_count": 43,
   "id": "f60149af",
   "metadata": {},
   "outputs": [
    {
     "data": {
      "text/plain": [
       "{'Logistic Regression': 0.842443729903537,\n",
       " 'Decision Tree': 0.842443729903537,\n",
       " 'Random Forest': 0.8553054662379421,\n",
       " 'Support Vector Machine': 0.5787781350482315}"
      ]
     },
     "execution_count": 43,
     "metadata": {},
     "output_type": "execute_result"
    }
   ],
   "source": [
    "score = fit_and_score_model(models,X_train, y_train, X_test, y_test)\n",
    "score \n",
    "#random forest classifier model performed best"
   ]
  },
  {
   "cell_type": "code",
   "execution_count": 44,
   "id": "273fa5fd",
   "metadata": {},
   "outputs": [],
   "source": [
    "best_model = RandomForestClassifier(n_estimators=100)"
   ]
  },
  {
   "cell_type": "code",
   "execution_count": 45,
   "id": "fdbbb503",
   "metadata": {},
   "outputs": [
    {
     "data": {
      "text/html": [
       "<style>#sk-container-id-1 {color: black;background-color: white;}#sk-container-id-1 pre{padding: 0;}#sk-container-id-1 div.sk-toggleable {background-color: white;}#sk-container-id-1 label.sk-toggleable__label {cursor: pointer;display: block;width: 100%;margin-bottom: 0;padding: 0.3em;box-sizing: border-box;text-align: center;}#sk-container-id-1 label.sk-toggleable__label-arrow:before {content: \"▸\";float: left;margin-right: 0.25em;color: #696969;}#sk-container-id-1 label.sk-toggleable__label-arrow:hover:before {color: black;}#sk-container-id-1 div.sk-estimator:hover label.sk-toggleable__label-arrow:before {color: black;}#sk-container-id-1 div.sk-toggleable__content {max-height: 0;max-width: 0;overflow: hidden;text-align: left;background-color: #f0f8ff;}#sk-container-id-1 div.sk-toggleable__content pre {margin: 0.2em;color: black;border-radius: 0.25em;background-color: #f0f8ff;}#sk-container-id-1 input.sk-toggleable__control:checked~div.sk-toggleable__content {max-height: 200px;max-width: 100%;overflow: auto;}#sk-container-id-1 input.sk-toggleable__control:checked~label.sk-toggleable__label-arrow:before {content: \"▾\";}#sk-container-id-1 div.sk-estimator input.sk-toggleable__control:checked~label.sk-toggleable__label {background-color: #d4ebff;}#sk-container-id-1 div.sk-label input.sk-toggleable__control:checked~label.sk-toggleable__label {background-color: #d4ebff;}#sk-container-id-1 input.sk-hidden--visually {border: 0;clip: rect(1px 1px 1px 1px);clip: rect(1px, 1px, 1px, 1px);height: 1px;margin: -1px;overflow: hidden;padding: 0;position: absolute;width: 1px;}#sk-container-id-1 div.sk-estimator {font-family: monospace;background-color: #f0f8ff;border: 1px dotted black;border-radius: 0.25em;box-sizing: border-box;margin-bottom: 0.5em;}#sk-container-id-1 div.sk-estimator:hover {background-color: #d4ebff;}#sk-container-id-1 div.sk-parallel-item::after {content: \"\";width: 100%;border-bottom: 1px solid gray;flex-grow: 1;}#sk-container-id-1 div.sk-label:hover label.sk-toggleable__label {background-color: #d4ebff;}#sk-container-id-1 div.sk-serial::before {content: \"\";position: absolute;border-left: 1px solid gray;box-sizing: border-box;top: 0;bottom: 0;left: 50%;z-index: 0;}#sk-container-id-1 div.sk-serial {display: flex;flex-direction: column;align-items: center;background-color: white;padding-right: 0.2em;padding-left: 0.2em;position: relative;}#sk-container-id-1 div.sk-item {position: relative;z-index: 1;}#sk-container-id-1 div.sk-parallel {display: flex;align-items: stretch;justify-content: center;background-color: white;position: relative;}#sk-container-id-1 div.sk-item::before, #sk-container-id-1 div.sk-parallel-item::before {content: \"\";position: absolute;border-left: 1px solid gray;box-sizing: border-box;top: 0;bottom: 0;left: 50%;z-index: -1;}#sk-container-id-1 div.sk-parallel-item {display: flex;flex-direction: column;z-index: 1;position: relative;background-color: white;}#sk-container-id-1 div.sk-parallel-item:first-child::after {align-self: flex-end;width: 50%;}#sk-container-id-1 div.sk-parallel-item:last-child::after {align-self: flex-start;width: 50%;}#sk-container-id-1 div.sk-parallel-item:only-child::after {width: 0;}#sk-container-id-1 div.sk-dashed-wrapped {border: 1px dashed gray;margin: 0 0.4em 0.5em 0.4em;box-sizing: border-box;padding-bottom: 0.4em;background-color: white;}#sk-container-id-1 div.sk-label label {font-family: monospace;font-weight: bold;display: inline-block;line-height: 1.2em;}#sk-container-id-1 div.sk-label-container {text-align: center;}#sk-container-id-1 div.sk-container {/* jupyter's `normalize.less` sets `[hidden] { display: none; }` but bootstrap.min.css set `[hidden] { display: none !important; }` so we also need the `!important` here to be able to override the default hidden behavior on the sphinx rendered scikit-learn.org. See: https://github.com/scikit-learn/scikit-learn/issues/21755 */display: inline-block !important;position: relative;}#sk-container-id-1 div.sk-text-repr-fallback {display: none;}</style><div id=\"sk-container-id-1\" class=\"sk-top-container\"><div class=\"sk-text-repr-fallback\"><pre>RandomForestClassifier()</pre><b>In a Jupyter environment, please rerun this cell to show the HTML representation or trust the notebook. <br />On GitHub, the HTML representation is unable to render, please try loading this page with nbviewer.org.</b></div><div class=\"sk-container\" hidden><div class=\"sk-item\"><div class=\"sk-estimator sk-toggleable\"><input class=\"sk-toggleable__control sk-hidden--visually\" id=\"sk-estimator-id-1\" type=\"checkbox\" checked><label for=\"sk-estimator-id-1\" class=\"sk-toggleable__label sk-toggleable__label-arrow\">RandomForestClassifier</label><div class=\"sk-toggleable__content\"><pre>RandomForestClassifier()</pre></div></div></div></div></div>"
      ],
      "text/plain": [
       "RandomForestClassifier()"
      ]
     },
     "execution_count": 45,
     "metadata": {},
     "output_type": "execute_result"
    }
   ],
   "source": [
    "best_model.fit(X_train,y_train)"
   ]
  },
  {
   "cell_type": "code",
   "execution_count": 46,
   "id": "389c3d9b",
   "metadata": {},
   "outputs": [],
   "source": [
    "y_pred = best_model.predict(X_test)"
   ]
  },
  {
   "cell_type": "code",
   "execution_count": 47,
   "id": "e94fb770",
   "metadata": {},
   "outputs": [
    {
     "name": "stdout",
     "output_type": "stream",
     "text": [
      "              precision    recall  f1-score   support\n",
      "\n",
      "        high       0.87      0.85      0.86       163\n",
      "         low       0.84      0.86      0.85       148\n",
      "\n",
      "    accuracy                           0.85       311\n",
      "   macro avg       0.85      0.85      0.85       311\n",
      "weighted avg       0.85      0.85      0.85       311\n",
      "\n"
     ]
    }
   ],
   "source": [
    "#evaluate model\n",
    "print(classification_report(y_test,y_pred))"
   ]
  },
  {
   "cell_type": "code",
   "execution_count": 48,
   "id": "5b0a0064",
   "metadata": {},
   "outputs": [
    {
     "name": "stdout",
     "output_type": "stream",
     "text": [
      "[[138  25]\n",
      " [ 21 127]]\n"
     ]
    }
   ],
   "source": [
    "print(confusion_matrix(y_test,y_pred))\n",
    "#138 instances were correctly clasified as positive (high total electricity rate)\n",
    "#21 instances were incorrectly classified as positive \n",
    "#25 instances were incorrectly classified as negative (low total electricity rate)\n",
    "#127 instances were correctly classified as negative"
   ]
  },
  {
   "cell_type": "code",
   "execution_count": 49,
   "id": "7ad04068",
   "metadata": {},
   "outputs": [
    {
     "name": "stdout",
     "output_type": "stream",
     "text": [
      "Best parameters: {'max_depth': 20, 'min_samples_leaf': 2, 'min_samples_split': 5, 'n_estimators': 100}\n",
      "Best score: 0.889\n"
     ]
    }
   ],
   "source": [
    "#Model Improvement\n",
    "from sklearn.model_selection import GridSearchCV\n",
    "\n",
    "# Define the model\n",
    "rf = RandomForestClassifier()\n",
    "\n",
    "# Define the hyperparameter grid to search\n",
    "param_grid = {\n",
    "    'n_estimators': [100, 200, 300],\n",
    "    'max_depth': [5, 10, 20],\n",
    "    'min_samples_split': [2, 5, 10],\n",
    "    'min_samples_leaf': [1, 2, 4]\n",
    "}\n",
    "\n",
    "# Perform a grid search to find the best hyperparameters\n",
    "grid_search = GridSearchCV(rf, param_grid, cv=5, scoring='accuracy', n_jobs=-1)\n",
    "grid_search.fit(X_train, y_train)\n",
    "\n",
    "# Print the best hyperparameters and the corresponding score\n",
    "print(f'Best parameters: {grid_search.best_params_}')\n",
    "print(f'Best score: {grid_search.best_score_:.3f}')\n"
   ]
  },
  {
   "cell_type": "code",
   "execution_count": 50,
   "id": "6df13cc9",
   "metadata": {},
   "outputs": [
    {
     "data": {
      "text/html": [
       "<style>#sk-container-id-2 {color: black;background-color: white;}#sk-container-id-2 pre{padding: 0;}#sk-container-id-2 div.sk-toggleable {background-color: white;}#sk-container-id-2 label.sk-toggleable__label {cursor: pointer;display: block;width: 100%;margin-bottom: 0;padding: 0.3em;box-sizing: border-box;text-align: center;}#sk-container-id-2 label.sk-toggleable__label-arrow:before {content: \"▸\";float: left;margin-right: 0.25em;color: #696969;}#sk-container-id-2 label.sk-toggleable__label-arrow:hover:before {color: black;}#sk-container-id-2 div.sk-estimator:hover label.sk-toggleable__label-arrow:before {color: black;}#sk-container-id-2 div.sk-toggleable__content {max-height: 0;max-width: 0;overflow: hidden;text-align: left;background-color: #f0f8ff;}#sk-container-id-2 div.sk-toggleable__content pre {margin: 0.2em;color: black;border-radius: 0.25em;background-color: #f0f8ff;}#sk-container-id-2 input.sk-toggleable__control:checked~div.sk-toggleable__content {max-height: 200px;max-width: 100%;overflow: auto;}#sk-container-id-2 input.sk-toggleable__control:checked~label.sk-toggleable__label-arrow:before {content: \"▾\";}#sk-container-id-2 div.sk-estimator input.sk-toggleable__control:checked~label.sk-toggleable__label {background-color: #d4ebff;}#sk-container-id-2 div.sk-label input.sk-toggleable__control:checked~label.sk-toggleable__label {background-color: #d4ebff;}#sk-container-id-2 input.sk-hidden--visually {border: 0;clip: rect(1px 1px 1px 1px);clip: rect(1px, 1px, 1px, 1px);height: 1px;margin: -1px;overflow: hidden;padding: 0;position: absolute;width: 1px;}#sk-container-id-2 div.sk-estimator {font-family: monospace;background-color: #f0f8ff;border: 1px dotted black;border-radius: 0.25em;box-sizing: border-box;margin-bottom: 0.5em;}#sk-container-id-2 div.sk-estimator:hover {background-color: #d4ebff;}#sk-container-id-2 div.sk-parallel-item::after {content: \"\";width: 100%;border-bottom: 1px solid gray;flex-grow: 1;}#sk-container-id-2 div.sk-label:hover label.sk-toggleable__label {background-color: #d4ebff;}#sk-container-id-2 div.sk-serial::before {content: \"\";position: absolute;border-left: 1px solid gray;box-sizing: border-box;top: 0;bottom: 0;left: 50%;z-index: 0;}#sk-container-id-2 div.sk-serial {display: flex;flex-direction: column;align-items: center;background-color: white;padding-right: 0.2em;padding-left: 0.2em;position: relative;}#sk-container-id-2 div.sk-item {position: relative;z-index: 1;}#sk-container-id-2 div.sk-parallel {display: flex;align-items: stretch;justify-content: center;background-color: white;position: relative;}#sk-container-id-2 div.sk-item::before, #sk-container-id-2 div.sk-parallel-item::before {content: \"\";position: absolute;border-left: 1px solid gray;box-sizing: border-box;top: 0;bottom: 0;left: 50%;z-index: -1;}#sk-container-id-2 div.sk-parallel-item {display: flex;flex-direction: column;z-index: 1;position: relative;background-color: white;}#sk-container-id-2 div.sk-parallel-item:first-child::after {align-self: flex-end;width: 50%;}#sk-container-id-2 div.sk-parallel-item:last-child::after {align-self: flex-start;width: 50%;}#sk-container-id-2 div.sk-parallel-item:only-child::after {width: 0;}#sk-container-id-2 div.sk-dashed-wrapped {border: 1px dashed gray;margin: 0 0.4em 0.5em 0.4em;box-sizing: border-box;padding-bottom: 0.4em;background-color: white;}#sk-container-id-2 div.sk-label label {font-family: monospace;font-weight: bold;display: inline-block;line-height: 1.2em;}#sk-container-id-2 div.sk-label-container {text-align: center;}#sk-container-id-2 div.sk-container {/* jupyter's `normalize.less` sets `[hidden] { display: none; }` but bootstrap.min.css set `[hidden] { display: none !important; }` so we also need the `!important` here to be able to override the default hidden behavior on the sphinx rendered scikit-learn.org. See: https://github.com/scikit-learn/scikit-learn/issues/21755 */display: inline-block !important;position: relative;}#sk-container-id-2 div.sk-text-repr-fallback {display: none;}</style><div id=\"sk-container-id-2\" class=\"sk-top-container\"><div class=\"sk-text-repr-fallback\"><pre>RandomForestClassifier(max_depth=20, min_samples_split=5, n_estimators=200)</pre><b>In a Jupyter environment, please rerun this cell to show the HTML representation or trust the notebook. <br />On GitHub, the HTML representation is unable to render, please try loading this page with nbviewer.org.</b></div><div class=\"sk-container\" hidden><div class=\"sk-item\"><div class=\"sk-estimator sk-toggleable\"><input class=\"sk-toggleable__control sk-hidden--visually\" id=\"sk-estimator-id-2\" type=\"checkbox\" checked><label for=\"sk-estimator-id-2\" class=\"sk-toggleable__label sk-toggleable__label-arrow\">RandomForestClassifier</label><div class=\"sk-toggleable__content\"><pre>RandomForestClassifier(max_depth=20, min_samples_split=5, n_estimators=200)</pre></div></div></div></div></div>"
      ],
      "text/plain": [
       "RandomForestClassifier(max_depth=20, min_samples_split=5, n_estimators=200)"
      ]
     },
     "execution_count": 50,
     "metadata": {},
     "output_type": "execute_result"
    }
   ],
   "source": [
    "#develop improved model\n",
    "improved_rf = RandomForestClassifier(n_estimators=200,max_depth=20,min_samples_leaf=1,min_samples_split=5)\n",
    "improved_rf.fit(X_train,y_train)"
   ]
  },
  {
   "cell_type": "code",
   "execution_count": 51,
   "id": "9afd6451",
   "metadata": {},
   "outputs": [],
   "source": [
    "predictions = improved_rf.predict(X_test)"
   ]
  },
  {
   "cell_type": "code",
   "execution_count": 52,
   "id": "7a8cf283",
   "metadata": {},
   "outputs": [
    {
     "name": "stdout",
     "output_type": "stream",
     "text": [
      "              precision    recall  f1-score   support\n",
      "\n",
      "        high       0.88      0.87      0.87       163\n",
      "         low       0.85      0.86      0.86       148\n",
      "\n",
      "    accuracy                           0.86       311\n",
      "   macro avg       0.86      0.86      0.86       311\n",
      "weighted avg       0.87      0.86      0.86       311\n",
      "\n"
     ]
    }
   ],
   "source": [
    "#evaluate improved model\n",
    "print(classification_report(y_test,predictions))"
   ]
  },
  {
   "cell_type": "code",
   "execution_count": 53,
   "id": "46b62af1",
   "metadata": {},
   "outputs": [
    {
     "name": "stdout",
     "output_type": "stream",
     "text": [
      "[[141  22]\n",
      " [ 20 128]]\n"
     ]
    }
   ],
   "source": [
    "print(confusion_matrix(y_test,predictions))\n",
    "#141 instances were correctly clasified as positive (high total electricity rate)\n",
    "#20 instances were incorrectly classified as positive \n",
    "#22 instances were incorrectly classified as negative (low total electricity rate)\n",
    "#128 instances were correctly classified as negative"
   ]
  }
 ],
 "metadata": {
  "kernelspec": {
   "display_name": "Python 3 (ipykernel)",
   "language": "python",
   "name": "python3"
  },
  "language_info": {
   "codemirror_mode": {
    "name": "ipython",
    "version": 3
   },
   "file_extension": ".py",
   "mimetype": "text/x-python",
   "name": "python",
   "nbconvert_exporter": "python",
   "pygments_lexer": "ipython3",
   "version": "3.9.7"
  }
 },
 "nbformat": 4,
 "nbformat_minor": 5
}
